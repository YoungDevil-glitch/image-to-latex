{
 "cells": [
  {
   "cell_type": "code",
   "execution_count": 7,
   "metadata": {},
   "outputs": [],
   "source": [
    "def dist_tab(tab,a,b):\n",
    "    n = len(tab)\n",
    "    M = [n,n]\n",
    "    m = n \n",
    "    for i in range(n):\n",
    "        if tab[i] == a or tab[i]==b:\n",
    "            h = int(tab[i] == b)\n",
    "            k = 1-h\n",
    "            if  M[k] != n: \n",
    "                M[h] = i\n",
    "                diff = i - M[k]\n",
    "                print(i)\n",
    "                if diff < m : \n",
    "                    m = diff \n",
    "            M[h] = i        \n",
    "    return m-1\n"
   ]
  },
  {
   "cell_type": "code",
   "execution_count": 8,
   "metadata": {},
   "outputs": [
    {
     "name": "stdout",
     "output_type": "stream",
     "text": [
      "12\n",
      "12\n",
      "12\n",
      "3\n",
      "3\n",
      "3\n",
      "5\n",
      "2\n",
      "6\n",
      "1\n",
      "1\n",
      "8\n",
      "1\n",
      "1\n",
      "1\n",
      "11\n",
      "1\n"
     ]
    },
    {
     "data": {
      "text/plain": [
       "0"
      ]
     },
     "execution_count": 8,
     "metadata": {},
     "output_type": "execute_result"
    }
   ],
   "source": [
    "tab = [10,0,7,8,9,10,8,9,10,5,6,10]\n",
    "dist_tab(tab,10,8)"
   ]
  },
  {
   "cell_type": "code",
   "execution_count": null,
   "metadata": {},
   "outputs": [],
   "source": []
  }
 ],
 "metadata": {
  "kernelspec": {
   "display_name": "Python 3",
   "language": "python",
   "name": "python3"
  },
  "language_info": {
   "codemirror_mode": {
    "name": "ipython",
    "version": 3
   },
   "file_extension": ".py",
   "mimetype": "text/x-python",
   "name": "python",
   "nbconvert_exporter": "python",
   "pygments_lexer": "ipython3",
   "version": "3.8.5"
  }
 },
 "nbformat": 4,
 "nbformat_minor": 4
}
